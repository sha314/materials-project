{
 "cells": [
  {
   "cell_type": "code",
   "execution_count": null,
   "id": "05b78326-44e0-4675-aa34-a8d14497ac85",
   "metadata": {},
   "outputs": [],
   "source": [
    "import numpy as np\n",
    "import matplotlib.pyplot as plt"
   ]
  },
  {
   "cell_type": "code",
   "execution_count": null,
   "id": "1b270033-c579-42f0-ad82-ff29cff7ac3e",
   "metadata": {},
   "outputs": [],
   "source": [
    "with open(\"./apikey\", 'r') as f:\n",
    "    api_key=f.readline()[:-1]\n",
    "    print(len(api_key))\n",
    "    pass\n",
    "\n"
   ]
  },
  {
   "cell_type": "markdown",
   "id": "e8cb1cb5-9bf4-4cf8-bd68-56c3a6d791c5",
   "metadata": {},
   "source": [
    "DOS = Density of States\n"
   ]
  },
  {
   "cell_type": "code",
   "execution_count": null,
   "id": "02511f93-61ba-4603-bd42-e72d83aa8dfb",
   "metadata": {},
   "outputs": [],
   "source": [
    "from mp_api.client import MPRester\n",
    "\n",
    "# The api key is saved in a file named \"apikey\"\n",
    "with MPRester(api_key) as mpr:\n",
    "    bs = mpr.get_bandstructure_by_material_id(\"mp-12627\")\n",
    "    dos = mpr.get_dos_by_material_id(\"mp-12627\")\n",
    "\n",
    "    # ph_bandstructure = mpr.get_phonon_bandstructure_by_material_id(\"mp-561\")\n",
    "    # ph_dos = mpr.get_phonon_dos_by_material_id(\"mp-561\")\n",
    "    pass"
   ]
  },
  {
   "cell_type": "code",
   "execution_count": null,
   "id": "c07c0711",
   "metadata": {},
   "outputs": [],
   "source": [
    "# help(bs)"
   ]
  },
  {
   "cell_type": "markdown",
   "id": "cdeb6a80-075a-4d6f-9397-0fb409283de5",
   "metadata": {},
   "source": [
    "# Bandstructure and DOS using API"
   ]
  },
  {
   "cell_type": "code",
   "execution_count": null,
   "id": "372a8d56-366f-4af9-9b28-4361a0a269e7",
   "metadata": {},
   "outputs": [],
   "source": [
    "from pymatgen.ext.matproj import MPRester\n",
    "from pymatgen.electronic_structure.plotter import BSPlotter, DosPlotter, BSDOSPlotter"
   ]
  },
  {
   "cell_type": "code",
   "execution_count": null,
   "id": "94e82077-7ed7-497c-b35b-e646c8e6c4bc",
   "metadata": {},
   "outputs": [],
   "source": [
    "plotter=BSPlotter(bs)\n",
    "plotter.get_plot()\n",
    "# plotter.plot_brillouin()"
   ]
  },
  {
   "cell_type": "code",
   "execution_count": null,
   "id": "3043cbcc-7711-4ea6-9ec5-98ca9851d4ff",
   "metadata": {},
   "outputs": [],
   "source": [
    "plotter.plot_brillouin()"
   ]
  },
  {
   "cell_type": "code",
   "execution_count": null,
   "id": "b5069aea-1800-4578-837c-5ec9dc59c444",
   "metadata": {},
   "outputs": [],
   "source": [
    "plotter_dos = DosPlotter(sigma=0.01)\n",
    "plotter_dos.add_dos(\"Total dos\", dos)\n",
    "plotter_dos.get_plot()\n",
    "\n",
    "\n",
    "plt.xlim(-3,3)\n",
    "plt.ylim(0,40)"
   ]
  },
  {
   "cell_type": "code",
   "execution_count": null,
   "id": "62867791-8a22-4548-a37d-cb4eb194857b",
   "metadata": {},
   "outputs": [],
   "source": [
    "bsdos_plotter=BSDOSPlotter(bs_projection='elements', dos_projection='elements')\n",
    "bsdos_plotter.get_plot(bs, dos=dos)"
   ]
  },
  {
   "cell_type": "markdown",
   "id": "bb30b1cd",
   "metadata": {},
   "source": [
    "# Using raw data"
   ]
  },
  {
   "cell_type": "markdown",
   "id": "b1df4ad3",
   "metadata": {},
   "source": [
    "### Bandstructure"
   ]
  },
  {
   "cell_type": "markdown",
   "id": "fd82c4bc",
   "metadata": {},
   "source": [
    "Indexing\n",
    "\n",
    "branch   : A particular direction in k-space\n",
    "\n",
    "branches : Contains information about 'start' and 'end' index of all branches. \n",
    "\n",
    "kpoints  : List of 3D vectors in k-space. Index range specified in branches for a particular branch corresponds to particular direction or band.\n",
    "\n",
    "bands    : an array with indexing [band_index, kpoint_index]\n",
    "\n",
    "projections (dict[Spin, NDArray]): Orbital projections as {spin: array}.\n",
    "\n",
    " |              The indices of the array are [band_index, kpoint_index, orbital_index, ion_index].\n",
    " |               If the band structure is not spin polarized, we only store one data set under Spin.up.\n",
    " "
   ]
  },
  {
   "cell_type": "code",
   "execution_count": null,
   "id": "d37facc8",
   "metadata": {},
   "outputs": [],
   "source": [
    "data=bs.as_dict()\n",
    "print(data.keys())\n",
    "bands=np.array(data['bands']['1'])\n",
    "projections=np.array(data['projections']['1'])\n",
    "kpoints=np.array(data['kpoints'])\n",
    "e_fermi = data['efermi']"
   ]
  },
  {
   "cell_type": "code",
   "execution_count": null,
   "id": "cebad48e",
   "metadata": {},
   "outputs": [],
   "source": [
    "data['branches']\n",
    "\n"
   ]
  },
  {
   "cell_type": "code",
   "execution_count": null,
   "id": "906bdef5",
   "metadata": {},
   "outputs": [],
   "source": [
    "def kpoint_distances_for_branch(kpoints, branch, branch_index):\n",
    "    the_branch=branch[branch_index]\n",
    "    thelist=kpoints[the_branch['start_index']: the_branch['end_index']+1]\n",
    "    thelist=list(map(np.linalg.norm, thelist))\n",
    "    return np.array(thelist)\n",
    "\n",
    "def get_band_for_branch(bands, branch, branch_index):\n",
    "    the_branch=branch[branch_index]\n",
    "    thelist = np.array(bands)\n",
    "    thelist=thelist[:,the_branch['start_index']: the_branch['end_index']+1]\n",
    "    return thelist.T\n",
    "\n",
    "\n",
    "print(kpoint_distances_for_branch(data['kpoints'], data['branches'], 7).shape)\n",
    "print(get_band_for_branch(data['bands']['1'], data['branches'], 7).shape)"
   ]
  },
  {
   "cell_type": "code",
   "execution_count": null,
   "id": "32c84822",
   "metadata": {},
   "outputs": [],
   "source": [
    "branch_index = 0\n",
    "\n",
    "\n",
    "print(data['branches'][branch_index])\n",
    "x = kpoint_distances_for_branch(data['kpoints'], data['branches'], branch_index)\n",
    "y = get_band_for_branch(data['bands']['1'], data['branches'], branch_index) - e_fermi\n",
    "# print(x)\n",
    "# y = bands[:,0:37].T\n",
    "plt.figure(figsize=(1,4), dpi=200)\n",
    "print(y.shape)\n",
    "plt.plot(x, y)\n",
    "plt.ylim(-1,1)\n",
    "plt.axhline(y=0, color='k')\n",
    "plt.ylabel(\"E-E_f\")\n",
    "plt.xlabel(r\"${}$\".format(data['branches'][branch_index]['name']))\n",
    "\n"
   ]
  },
  {
   "cell_type": "markdown",
   "id": "a0b6add3",
   "metadata": {},
   "source": [
    "### Filtering dispersion curves in given range. Used for bands near fermi level and to export it in csv file."
   ]
  },
  {
   "cell_type": "code",
   "execution_count": null,
   "id": "902ac869",
   "metadata": {},
   "outputs": [],
   "source": [
    "import pandas as pd"
   ]
  },
  {
   "cell_type": "code",
   "execution_count": null,
   "id": "4f5b61f6",
   "metadata": {},
   "outputs": [],
   "source": [
    "def get_bands_smaller_than_E(max_energy=3):\n",
    "    chosen_band_index = []\n",
    "    for i in range(y.shape[1]):\n",
    "        if(np.max(np.abs(y[:,i])) < max_energy):\n",
    "            chosen_band_index.append(i)\n",
    "            pass\n",
    "    print(chosen_band_index)\n",
    "    print(len(chosen_band_index))\n",
    "    return chosen_band_index\n",
    "\n"
   ]
  },
  {
   "cell_type": "code",
   "execution_count": null,
   "id": "034822f8",
   "metadata": {},
   "outputs": [],
   "source": [
    "branch_index = 8\n",
    "print(data['branches'][branch_index])\n",
    "x = kpoint_distances_for_branch(data['kpoints'], data['branches'], branch_index)\n",
    "y = get_band_for_branch(data['bands']['1'], data['branches'], branch_index) - e_fermi\n",
    "# print(x)\n",
    "# y = bands[:,0:37].T\n",
    "plt.figure(figsize=(1,4), dpi=200)\n",
    "print(x.shape)\n",
    "print(y.shape)\n",
    "\n",
    "chosen_band_index = get_bands_smaller_than_E(max_energy=3)\n",
    "plt.plot(x, y[:,chosen_band_index])\n",
    "# plt.ylim(-1,1)\n",
    "plt.axhline(y=0, color='k')\n",
    "plt.ylabel(\"E-E_f\")\n",
    "plt.xlabel(r\"${}$\".format(data['branches'][branch_index]['name']))"
   ]
  },
  {
   "cell_type": "code",
   "execution_count": null,
   "id": "a146c3bd",
   "metadata": {},
   "outputs": [],
   "source": [
    "df = pd.DataFrame(np.c_[x, y[:,chosen_band_index]])\n",
    "df.to_csv(\"temp.csv\", index=False, sep=\"\\t\")"
   ]
  },
  {
   "cell_type": "code",
   "execution_count": null,
   "id": "9955a80b",
   "metadata": {},
   "outputs": [],
   "source": [
    "# df"
   ]
  },
  {
   "cell_type": "markdown",
   "id": "a1774b0f",
   "metadata": {},
   "source": [
    "## Density of States using raw data"
   ]
  },
  {
   "cell_type": "code",
   "execution_count": null,
   "id": "ea8a4b39",
   "metadata": {},
   "outputs": [],
   "source": [
    "dos_data = dos.as_dict()\n",
    "\n",
    "print(type(dos_data['energies']))\n",
    "print(dos_data['efermi'])\n",
    "\n",
    "x = np.array(dos_data['energies']) - dos_data['efermi']\n",
    "y = dos_data['densities']['1']\n",
    "\n",
    "plt.figure(dpi=200)\n",
    "\n",
    "plt.plot(x, y)\n",
    "plt.axvline(x=0, color='k')\n",
    "plt.xlabel(\"E-E_f\")\n",
    "plt.ylabel(\"densities\")\n",
    "plt.xlim(-3,3)\n",
    "plt.ylim(0,40)"
   ]
  },
  {
   "cell_type": "code",
   "execution_count": null,
   "id": "0444dc0c",
   "metadata": {},
   "outputs": [],
   "source": []
  }
 ],
 "metadata": {
  "kernelspec": {
   "display_name": "band",
   "language": "python",
   "name": "python3"
  },
  "language_info": {
   "codemirror_mode": {
    "name": "ipython",
    "version": 3
   },
   "file_extension": ".py",
   "mimetype": "text/x-python",
   "name": "python",
   "nbconvert_exporter": "python",
   "pygments_lexer": "ipython3",
   "version": "3.12.9"
  }
 },
 "nbformat": 4,
 "nbformat_minor": 5
}
