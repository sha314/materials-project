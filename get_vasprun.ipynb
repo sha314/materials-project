{
 "cells": [
  {
   "cell_type": "code",
   "execution_count": null,
   "id": "9e02c57b",
   "metadata": {},
   "outputs": [],
   "source": [
    "import numpy as np\n",
    "import matplotlib.pyplot as plt\n",
    "\n",
    "\n",
    "with open(\"./apikey\", 'r') as f:\n",
    "    api_key=f.readline()[:-1]\n",
    "    print(len(api_key))\n",
    "    API_KEY = api_key\n",
    "    pass"
   ]
  },
  {
   "cell_type": "code",
   "execution_count": null,
   "id": "6e396455",
   "metadata": {},
   "outputs": [],
   "source": [
    "from mp_api.client import MPRester\n",
    "from pymatgen.symmetry.analyzer import SpacegroupAnalyzer\n",
    "import requests\n",
    "\n",
    "\n",
    "material_id=\"mp-12627\"\n",
    "# material_id=\"mp-561\"\n",
    "# The api key is saved in a file named \"apikey\"\n",
    "with MPRester(api_key) as mpr:\n",
    "    structure = mpr.get_structure_by_material_id(material_id)\n",
    "    info = mpr.get_download_info([material_id])\n",
    "    summary = mpr.summary.search(material_ids=material_id)\n",
    "    \n",
    "\n",
    "    pass\n",
    "\n",
    "# Analyze symmetry\n",
    "sga = SpacegroupAnalyzer(structure)\n",
    "crystal_system = sga.get_crystal_system()\n",
    "spacegroup = sga.get_space_group_symbol()\n",
    "number = sga.get_space_group_number()\n",
    "\n",
    "\n",
    "\n",
    "print(f\"Crystal system: {crystal_system}\")\n",
    "print(f\"Space group: {spacegroup} (No. {number})\")\n",
    "\n",
    "# Extract name-related fields\n",
    "print(\"Pretty Formula:\", summary[0].formula_pretty    )\n",
    "print(\"Full Formula:\", summary[0].formula_pretty)\n",
    "print(\"Chemical System:\", summary[0].chemsys)\n",
    "print(\"Material ID:\", summary[0].material_id)"
   ]
  },
  {
   "cell_type": "code",
   "execution_count": null,
   "id": "d9d81a3d",
   "metadata": {},
   "outputs": [],
   "source": [
    "info"
   ]
  },
  {
   "cell_type": "code",
   "execution_count": null,
   "id": "375537cc",
   "metadata": {},
   "outputs": [],
   "source": [
    "# info[0][keys[0]]"
   ]
  },
  {
   "cell_type": "code",
   "execution_count": null,
   "id": "866aa0ec",
   "metadata": {},
   "outputs": [],
   "source": [
    "keys=list(info[0].keys())\n",
    "stuff = info[0][keys[0]]\n",
    "indices = [k for k in range (len(stuff)) if \"Uniform\" in str(stuff[k]['calc_type'])]\n",
    "stuff[indices[0]]"
   ]
  },
  {
   "cell_type": "code",
   "execution_count": null,
   "id": "4accaaf4",
   "metadata": {},
   "outputs": [],
   "source": [
    "task_id = stuff[indices[0]]['task_id']\n",
    "task_id"
   ]
  },
  {
   "cell_type": "code",
   "execution_count": null,
   "id": "9e3a3530",
   "metadata": {},
   "outputs": [],
   "source": [
    "info[1]"
   ]
  },
  {
   "cell_type": "code",
   "execution_count": null,
   "id": "7fd391e2",
   "metadata": {},
   "outputs": [],
   "source": [
    "for link in info[1]:\n",
    "    if task_id in link:\n",
    "        print(link)\n",
    "        pass\n"
   ]
  },
  {
   "cell_type": "markdown",
   "id": "df09223a",
   "metadata": {},
   "source": [
    "1. Open this link in a browser to download the nomad_raw_files.\n",
    "\n",
    "2. Search for \"vasprun.xml.gz\" file inside the folder\n",
    "\n",
    "3. Extract it and you'll have vasprun.xml file\n"
   ]
  }
 ],
 "metadata": {
  "kernelspec": {
   "display_name": "band",
   "language": "python",
   "name": "python3"
  },
  "language_info": {
   "codemirror_mode": {
    "name": "ipython",
    "version": 3
   },
   "file_extension": ".py",
   "mimetype": "text/x-python",
   "name": "python",
   "nbconvert_exporter": "python",
   "pygments_lexer": "ipython3",
   "version": "3.12.10"
  }
 },
 "nbformat": 4,
 "nbformat_minor": 5
}
